{
  "nbformat": 4,
  "nbformat_minor": 0,
  "metadata": {
    "colab": {
      "provenance": []
    },
    "kernelspec": {
      "name": "python3",
      "display_name": "Python 3"
    },
    "language_info": {
      "name": "python"
    }
  },
  "cells": [
    {
      "cell_type": "markdown",
      "source": [
        "#Title -    Emergency Vehicle Identification\n",
        "#Name -     T Venkat Reddy"
      ],
      "metadata": {
        "id": "FHuu4WKQ-bue"
      }
    },
    {
      "cell_type": "markdown",
      "source": [
        "# Importing Libraries"
      ],
      "metadata": {
        "id": "la62uuxD9A8z"
      }
    },
    {
      "cell_type": "code",
      "execution_count": null,
      "metadata": {
        "id": "Ww9bQZaNiKjt"
      },
      "outputs": [],
      "source": [
        "# importing libraries\n",
        "import numpy as np\n",
        "import pandas as pd\n",
        "import matplotlib.pyplot as plt"
      ]
    },
    {
      "cell_type": "code",
      "source": [
        "# reading the data\n",
        "# replace \"paste file path here\" with dataset file path\n",
        "data = pd.read_csv('paste file path here...')"
      ],
      "metadata": {
        "id": "ydpmTiksimBs"
      },
      "execution_count": null,
      "outputs": []
    },
    {
      "cell_type": "code",
      "source": [
        "data.head(10)"
      ],
      "metadata": {
        "colab": {
          "base_uri": "https://localhost:8080/",
          "height": 363
        },
        "id": "S-7wgMaU9cH4",
        "outputId": "e2be00da-0fbe-4625-e50b-c054c0d508a8"
      },
      "execution_count": null,
      "outputs": [
        {
          "output_type": "execute_result",
          "data": {
            "text/plain": [
              "  image_names  emergency_or_not\n",
              "0    1503.jpg                 0\n",
              "1    1420.jpg                 0\n",
              "2    1764.jpg                 0\n",
              "3    1356.jpg                 0\n",
              "4    1117.jpg                 0\n",
              "5      45.jpg                 1\n",
              "6    2313.jpg                 0\n",
              "7    1657.jpg                 0\n",
              "8     294.jpg                 1\n",
              "9     999.jpg                 0"
            ],
            "text/html": [
              "\n",
              "  <div id=\"df-9312dba2-2d52-4953-b0d8-2d27ca25e611\" class=\"colab-df-container\">\n",
              "    <div>\n",
              "<style scoped>\n",
              "    .dataframe tbody tr th:only-of-type {\n",
              "        vertical-align: middle;\n",
              "    }\n",
              "\n",
              "    .dataframe tbody tr th {\n",
              "        vertical-align: top;\n",
              "    }\n",
              "\n",
              "    .dataframe thead th {\n",
              "        text-align: right;\n",
              "    }\n",
              "</style>\n",
              "<table border=\"1\" class=\"dataframe\">\n",
              "  <thead>\n",
              "    <tr style=\"text-align: right;\">\n",
              "      <th></th>\n",
              "      <th>image_names</th>\n",
              "      <th>emergency_or_not</th>\n",
              "    </tr>\n",
              "  </thead>\n",
              "  <tbody>\n",
              "    <tr>\n",
              "      <th>0</th>\n",
              "      <td>1503.jpg</td>\n",
              "      <td>0</td>\n",
              "    </tr>\n",
              "    <tr>\n",
              "      <th>1</th>\n",
              "      <td>1420.jpg</td>\n",
              "      <td>0</td>\n",
              "    </tr>\n",
              "    <tr>\n",
              "      <th>2</th>\n",
              "      <td>1764.jpg</td>\n",
              "      <td>0</td>\n",
              "    </tr>\n",
              "    <tr>\n",
              "      <th>3</th>\n",
              "      <td>1356.jpg</td>\n",
              "      <td>0</td>\n",
              "    </tr>\n",
              "    <tr>\n",
              "      <th>4</th>\n",
              "      <td>1117.jpg</td>\n",
              "      <td>0</td>\n",
              "    </tr>\n",
              "    <tr>\n",
              "      <th>5</th>\n",
              "      <td>45.jpg</td>\n",
              "      <td>1</td>\n",
              "    </tr>\n",
              "    <tr>\n",
              "      <th>6</th>\n",
              "      <td>2313.jpg</td>\n",
              "      <td>0</td>\n",
              "    </tr>\n",
              "    <tr>\n",
              "      <th>7</th>\n",
              "      <td>1657.jpg</td>\n",
              "      <td>0</td>\n",
              "    </tr>\n",
              "    <tr>\n",
              "      <th>8</th>\n",
              "      <td>294.jpg</td>\n",
              "      <td>1</td>\n",
              "    </tr>\n",
              "    <tr>\n",
              "      <th>9</th>\n",
              "      <td>999.jpg</td>\n",
              "      <td>0</td>\n",
              "    </tr>\n",
              "  </tbody>\n",
              "</table>\n",
              "</div>\n",
              "    <div class=\"colab-df-buttons\">\n",
              "\n",
              "  <div class=\"colab-df-container\">\n",
              "    <button class=\"colab-df-convert\" onclick=\"convertToInteractive('df-9312dba2-2d52-4953-b0d8-2d27ca25e611')\"\n",
              "            title=\"Convert this dataframe to an interactive table.\"\n",
              "            style=\"display:none;\">\n",
              "\n",
              "  <svg xmlns=\"http://www.w3.org/2000/svg\" height=\"24px\" viewBox=\"0 -960 960 960\">\n",
              "    <path d=\"M120-120v-720h720v720H120Zm60-500h600v-160H180v160Zm220 220h160v-160H400v160Zm0 220h160v-160H400v160ZM180-400h160v-160H180v160Zm440 0h160v-160H620v160ZM180-180h160v-160H180v160Zm440 0h160v-160H620v160Z\"/>\n",
              "  </svg>\n",
              "    </button>\n",
              "\n",
              "  <style>\n",
              "    .colab-df-container {\n",
              "      display:flex;\n",
              "      gap: 12px;\n",
              "    }\n",
              "\n",
              "    .colab-df-convert {\n",
              "      background-color: #E8F0FE;\n",
              "      border: none;\n",
              "      border-radius: 50%;\n",
              "      cursor: pointer;\n",
              "      display: none;\n",
              "      fill: #1967D2;\n",
              "      height: 32px;\n",
              "      padding: 0 0 0 0;\n",
              "      width: 32px;\n",
              "    }\n",
              "\n",
              "    .colab-df-convert:hover {\n",
              "      background-color: #E2EBFA;\n",
              "      box-shadow: 0px 1px 2px rgba(60, 64, 67, 0.3), 0px 1px 3px 1px rgba(60, 64, 67, 0.15);\n",
              "      fill: #174EA6;\n",
              "    }\n",
              "\n",
              "    .colab-df-buttons div {\n",
              "      margin-bottom: 4px;\n",
              "    }\n",
              "\n",
              "    [theme=dark] .colab-df-convert {\n",
              "      background-color: #3B4455;\n",
              "      fill: #D2E3FC;\n",
              "    }\n",
              "\n",
              "    [theme=dark] .colab-df-convert:hover {\n",
              "      background-color: #434B5C;\n",
              "      box-shadow: 0px 1px 3px 1px rgba(0, 0, 0, 0.15);\n",
              "      filter: drop-shadow(0px 1px 2px rgba(0, 0, 0, 0.3));\n",
              "      fill: #FFFFFF;\n",
              "    }\n",
              "  </style>\n",
              "\n",
              "    <script>\n",
              "      const buttonEl =\n",
              "        document.querySelector('#df-9312dba2-2d52-4953-b0d8-2d27ca25e611 button.colab-df-convert');\n",
              "      buttonEl.style.display =\n",
              "        google.colab.kernel.accessAllowed ? 'block' : 'none';\n",
              "\n",
              "      async function convertToInteractive(key) {\n",
              "        const element = document.querySelector('#df-9312dba2-2d52-4953-b0d8-2d27ca25e611');\n",
              "        const dataTable =\n",
              "          await google.colab.kernel.invokeFunction('convertToInteractive',\n",
              "                                                    [key], {});\n",
              "        if (!dataTable) return;\n",
              "\n",
              "        const docLinkHtml = 'Like what you see? Visit the ' +\n",
              "          '<a target=\"_blank\" href=https://colab.research.google.com/notebooks/data_table.ipynb>data table notebook</a>'\n",
              "          + ' to learn more about interactive tables.';\n",
              "        element.innerHTML = '';\n",
              "        dataTable['output_type'] = 'display_data';\n",
              "        await google.colab.output.renderOutput(dataTable, element);\n",
              "        const docLink = document.createElement('div');\n",
              "        docLink.innerHTML = docLinkHtml;\n",
              "        element.appendChild(docLink);\n",
              "      }\n",
              "    </script>\n",
              "  </div>\n",
              "\n",
              "\n",
              "<div id=\"df-203cb1d4-5348-494d-9ce5-02fb22d8c411\">\n",
              "  <button class=\"colab-df-quickchart\" onclick=\"quickchart('df-203cb1d4-5348-494d-9ce5-02fb22d8c411')\"\n",
              "            title=\"Suggest charts\"\n",
              "            style=\"display:none;\">\n",
              "\n",
              "<svg xmlns=\"http://www.w3.org/2000/svg\" height=\"24px\"viewBox=\"0 0 24 24\"\n",
              "     width=\"24px\">\n",
              "    <g>\n",
              "        <path d=\"M19 3H5c-1.1 0-2 .9-2 2v14c0 1.1.9 2 2 2h14c1.1 0 2-.9 2-2V5c0-1.1-.9-2-2-2zM9 17H7v-7h2v7zm4 0h-2V7h2v10zm4 0h-2v-4h2v4z\"/>\n",
              "    </g>\n",
              "</svg>\n",
              "  </button>\n",
              "\n",
              "<style>\n",
              "  .colab-df-quickchart {\n",
              "      --bg-color: #E8F0FE;\n",
              "      --fill-color: #1967D2;\n",
              "      --hover-bg-color: #E2EBFA;\n",
              "      --hover-fill-color: #174EA6;\n",
              "      --disabled-fill-color: #AAA;\n",
              "      --disabled-bg-color: #DDD;\n",
              "  }\n",
              "\n",
              "  [theme=dark] .colab-df-quickchart {\n",
              "      --bg-color: #3B4455;\n",
              "      --fill-color: #D2E3FC;\n",
              "      --hover-bg-color: #434B5C;\n",
              "      --hover-fill-color: #FFFFFF;\n",
              "      --disabled-bg-color: #3B4455;\n",
              "      --disabled-fill-color: #666;\n",
              "  }\n",
              "\n",
              "  .colab-df-quickchart {\n",
              "    background-color: var(--bg-color);\n",
              "    border: none;\n",
              "    border-radius: 50%;\n",
              "    cursor: pointer;\n",
              "    display: none;\n",
              "    fill: var(--fill-color);\n",
              "    height: 32px;\n",
              "    padding: 0;\n",
              "    width: 32px;\n",
              "  }\n",
              "\n",
              "  .colab-df-quickchart:hover {\n",
              "    background-color: var(--hover-bg-color);\n",
              "    box-shadow: 0 1px 2px rgba(60, 64, 67, 0.3), 0 1px 3px 1px rgba(60, 64, 67, 0.15);\n",
              "    fill: var(--button-hover-fill-color);\n",
              "  }\n",
              "\n",
              "  .colab-df-quickchart-complete:disabled,\n",
              "  .colab-df-quickchart-complete:disabled:hover {\n",
              "    background-color: var(--disabled-bg-color);\n",
              "    fill: var(--disabled-fill-color);\n",
              "    box-shadow: none;\n",
              "  }\n",
              "\n",
              "  .colab-df-spinner {\n",
              "    border: 2px solid var(--fill-color);\n",
              "    border-color: transparent;\n",
              "    border-bottom-color: var(--fill-color);\n",
              "    animation:\n",
              "      spin 1s steps(1) infinite;\n",
              "  }\n",
              "\n",
              "  @keyframes spin {\n",
              "    0% {\n",
              "      border-color: transparent;\n",
              "      border-bottom-color: var(--fill-color);\n",
              "      border-left-color: var(--fill-color);\n",
              "    }\n",
              "    20% {\n",
              "      border-color: transparent;\n",
              "      border-left-color: var(--fill-color);\n",
              "      border-top-color: var(--fill-color);\n",
              "    }\n",
              "    30% {\n",
              "      border-color: transparent;\n",
              "      border-left-color: var(--fill-color);\n",
              "      border-top-color: var(--fill-color);\n",
              "      border-right-color: var(--fill-color);\n",
              "    }\n",
              "    40% {\n",
              "      border-color: transparent;\n",
              "      border-right-color: var(--fill-color);\n",
              "      border-top-color: var(--fill-color);\n",
              "    }\n",
              "    60% {\n",
              "      border-color: transparent;\n",
              "      border-right-color: var(--fill-color);\n",
              "    }\n",
              "    80% {\n",
              "      border-color: transparent;\n",
              "      border-right-color: var(--fill-color);\n",
              "      border-bottom-color: var(--fill-color);\n",
              "    }\n",
              "    90% {\n",
              "      border-color: transparent;\n",
              "      border-bottom-color: var(--fill-color);\n",
              "    }\n",
              "  }\n",
              "</style>\n",
              "\n",
              "  <script>\n",
              "    async function quickchart(key) {\n",
              "      const quickchartButtonEl =\n",
              "        document.querySelector('#' + key + ' button');\n",
              "      quickchartButtonEl.disabled = true;  // To prevent multiple clicks.\n",
              "      quickchartButtonEl.classList.add('colab-df-spinner');\n",
              "      try {\n",
              "        const charts = await google.colab.kernel.invokeFunction(\n",
              "            'suggestCharts', [key], {});\n",
              "      } catch (error) {\n",
              "        console.error('Error during call to suggestCharts:', error);\n",
              "      }\n",
              "      quickchartButtonEl.classList.remove('colab-df-spinner');\n",
              "      quickchartButtonEl.classList.add('colab-df-quickchart-complete');\n",
              "    }\n",
              "    (() => {\n",
              "      let quickchartButtonEl =\n",
              "        document.querySelector('#df-203cb1d4-5348-494d-9ce5-02fb22d8c411 button');\n",
              "      quickchartButtonEl.style.display =\n",
              "        google.colab.kernel.accessAllowed ? 'block' : 'none';\n",
              "    })();\n",
              "  </script>\n",
              "</div>\n",
              "\n",
              "    </div>\n",
              "  </div>\n"
            ],
            "application/vnd.google.colaboratory.intrinsic+json": {
              "type": "dataframe",
              "variable_name": "data",
              "summary": "{\n  \"name\": \"data\",\n  \"rows\": 1646,\n  \"fields\": [\n    {\n      \"column\": \"image_names\",\n      \"properties\": {\n        \"dtype\": \"string\",\n        \"num_unique_values\": 1646,\n        \"samples\": [\n          \"242.jpg\",\n          \"1495.jpg\",\n          \"1451.jpg\"\n        ],\n        \"semantic_type\": \"\",\n        \"description\": \"\"\n      }\n    },\n    {\n      \"column\": \"emergency_or_not\",\n      \"properties\": {\n        \"dtype\": \"number\",\n        \"std\": 0,\n        \"min\": 0,\n        \"max\": 1,\n        \"num_unique_values\": 2,\n        \"samples\": [\n          1,\n          0\n        ],\n        \"semantic_type\": \"\",\n        \"description\": \"\"\n      }\n    }\n  ]\n}"
            }
          },
          "metadata": {},
          "execution_count": 28
        }
      ]
    },
    {
      "cell_type": "markdown",
      "source": [
        "# Count of Vehicles\n"
      ],
      "metadata": {
        "id": "m9nAX0SX9N6P"
      }
    },
    {
      "source": [
        "data['emergency_or_not'].plot(kind='hist',title='emergency_or_not')\n",
        "plt.show()"
      ],
      "cell_type": "code",
      "execution_count": null,
      "outputs": [
        {
          "output_type": "display_data",
          "data": {
            "text/plain": [
              "<Figure size 640x480 with 1 Axes>"
            ],
            "image/png": "[encoded data removed]"
          },
          "metadata": {}
        }
      ],
      "metadata": {
        "colab": {
          "base_uri": "https://localhost:8080/",
          "height": 452
        },
        "id": "wAuHsFH98lun",
        "outputId": "5412d8ea-4820-455b-e401-fb824fe7f158"
      }
    },
    {
      "cell_type": "markdown",
      "source": [
        "#Adding Images to the list"
      ],
      "metadata": {
        "id": "NrFFfTBx9W9W"
      }
    },
    {
      "cell_type": "code",
      "source": [
        "x = []\n",
        "\n",
        "for image in data.image_names:\n",
        "  combine = plt.imread('/content/drive/MyDrive/images/'+image)\n",
        "  x.append(combine)"
      ],
      "metadata": {
        "id": "9jENM5H_9eBf"
      },
      "execution_count": null,
      "outputs": []
    },
    {
      "cell_type": "markdown",
      "source": [
        "#Images"
      ],
      "metadata": {
        "id": "JfSlDP1uAzjq"
      }
    },
    {
      "cell_type": "code",
      "source": [
        "x = np.array(x)\n",
        "y = data['emergency_or_not']"
      ],
      "metadata": {
        "id": "l4R_8Ood-IYk"
      },
      "execution_count": null,
      "outputs": []
    },
    {
      "cell_type": "code",
      "source": [
        "print(x.shape)"
      ],
      "metadata": {
        "colab": {
          "base_uri": "https://localhost:8080/"
        },
        "id": "YH_1CmES_Lmy",
        "outputId": "19db8804-b905-480c-e48f-594177bc402a"
      },
      "execution_count": null,
      "outputs": [
        {
          "output_type": "stream",
          "name": "stdout",
          "text": [
            "(1646, 224, 224, 3)\n"
          ]
        }
      ]
    },
    {
      "cell_type": "markdown",
      "source": [
        "#splitting the *Dataset*"
      ],
      "metadata": {
        "id": "yLQ5Sa9M9lxG"
      }
    },
    {
      "cell_type": "code",
      "source": [
        "from sklearn.model_selection import train_test_split\n",
        "x=x.reshape(x.shape[0],224*224*3)\n",
        "x=x/x.max()\n",
        "X_train,X_valid,y_train,y_valid=train_test_split(x,y,test_size=0.3,random_state=42)"
      ],
      "metadata": {
        "id": "z0FA9e6y_QBq"
      },
      "execution_count": null,
      "outputs": []
    },
    {
      "cell_type": "markdown",
      "source": [
        "#Importing model and optimizer"
      ],
      "metadata": {
        "id": "9u0MZiJU943-"
      }
    },
    {
      "cell_type": "code",
      "source": [
        "from keras.layers import Dense, InputLayer\n",
        "from keras.models import Sequential\n",
        "from tensorflow.keras.optimizers import Adam"
      ],
      "metadata": {
        "id": "U_PDXgmlEzJR"
      },
      "execution_count": null,
      "outputs": []
    },
    {
      "cell_type": "markdown",
      "source": [
        "#Adding Layers to the Model"
      ],
      "metadata": {
        "id": "0VjJVraj-Aps"
      }
    },
    {
      "cell_type": "code",
      "source": [
        "model = Sequential()\n",
        "model.add(InputLayer(input_shape=(224*224*3,)))\n",
        "model.add(Dense(128, activation='relu'))\n",
        "model.add(Dense(1, activation='sigmoid'))"
      ],
      "metadata": {
        "id": "vLzMslL326f6"
      },
      "execution_count": null,
      "outputs": []
    },
    {
      "cell_type": "code",
      "source": [
        "adam = Adam(learning_rate=1e-5)\n",
        "model.compile(loss='binary_crossentropy', optimizer=adam, metrics=['accuracy'])"
      ],
      "metadata": {
        "id": "L5yVp8CS3Af-"
      },
      "execution_count": null,
      "outputs": []
    },
    {
      "cell_type": "markdown",
      "source": [
        "#Training the Model"
      ],
      "metadata": {
        "id": "rdDUAmGI-HHd"
      }
    },
    {
      "cell_type": "code",
      "source": [
        "from keras.callbacks import ModelCheckpoint\n",
        "filepath=\"best_weights.hdf5\"\n",
        "checkpoint = ModelCheckpoint(filepath, monitor='val_accuracy', verbose=1, save_best_only=True, mode='max')\n",
        "callbacks_list = [checkpoint]\n",
        "model_history = model.fit(X_train, y_train, epochs=100, batch_size=128, validation_data=(X_valid,y_valid), callbacks=callbacks_list)"
      ],
      "metadata": {
        "colab": {
          "base_uri": "https://localhost:8080/"
        },
        "id": "DTFCNbqe3IKF",
        "outputId": "e6ef2677-94df-4bc6-dd47-4e0ba6baa5ae"
      },
      "execution_count": null,
      "outputs": [
        {
          "metadata": {
            "tags": null
          },
          "name": "stdout",
          "output_type": "stream",
          "text": [
            "Epoch 1/100\n",
            "9/9 [==============================] - ETA: 0s - loss: 0.2948 - accuracy: 0.9106\n",
            "Epoch 1: val_accuracy improved from -inf to 0.69838, saving model to best_weights.hdf5\n"
          ]
        },
        {
          "metadata": {
            "tags": null
          },
          "name": "stderr",
          "output_type": "stream",
          "text": [
            "/usr/local/lib/python3.10/dist-packages/keras/src/engine/training.py:3103: UserWarning: You are saving your model as an HDF5 file via `model.save()`. This file format is considered legacy. We recommend using instead the native Keras format, e.g. `model.save('my_model.keras')`.\n",
            "  saving_api.save_model(\n"
          ]
        },
        {
          "output_type": "stream",
          "name": "stdout",
          "text": [
            "9/9 [==============================] - 7s 814ms/step - loss: 0.2948 - accuracy: 0.9106 - val_loss: 0.5890 - val_accuracy: 0.6984\n",
            "Epoch 2/100\n",
            "9/9 [==============================] - ETA: 0s - loss: 0.2931 - accuracy: 0.9193\n",
            "Epoch 2: val_accuracy did not improve from 0.69838\n",
            "9/9 [==============================] - 8s 898ms/step - loss: 0.2931 - accuracy: 0.9193 - val_loss: 0.5916 - val_accuracy: 0.6984\n",
            "Epoch 3/100\n",
            "9/9 [==============================] - ETA: 0s - loss: 0.2898 - accuracy: 0.9158\n",
            "Epoch 3: val_accuracy improved from 0.69838 to 0.70445, saving model to best_weights.hdf5\n",
            "9/9 [==============================] - 10s 1s/step - loss: 0.2898 - accuracy: 0.9158 - val_loss: 0.5877 - val_accuracy: 0.7045\n",
            "Epoch 4/100\n",
            "9/9 [==============================] - ETA: 0s - loss: 0.2832 - accuracy: 0.9201\n",
            "Epoch 4: val_accuracy did not improve from 0.70445\n",
            "9/9 [==============================] - 7s 774ms/step - loss: 0.2832 - accuracy: 0.9201 - val_loss: 0.5887 - val_accuracy: 0.7024\n",
            "Epoch 5/100\n",
            "9/9 [==============================] - ETA: 0s - loss: 0.2838 - accuracy: 0.9271\n",
            "Epoch 5: val_accuracy did not improve from 0.70445\n",
            "9/9 [==============================] - 6s 642ms/step - loss: 0.2838 - accuracy: 0.9271 - val_loss: 0.5889 - val_accuracy: 0.6943\n",
            "Epoch 6/100\n",
            "9/9 [==============================] - ETA: 0s - loss: 0.2783 - accuracy: 0.9262\n",
            "Epoch 6: val_accuracy did not improve from 0.70445\n",
            "9/9 [==============================] - 8s 913ms/step - loss: 0.2783 - accuracy: 0.9262 - val_loss: 0.5900 - val_accuracy: 0.7004\n",
            "Epoch 7/100\n",
            "9/9 [==============================] - ETA: 0s - loss: 0.2781 - accuracy: 0.9280\n",
            "Epoch 7: val_accuracy improved from 0.70445 to 0.70850, saving model to best_weights.hdf5\n",
            "9/9 [==============================] - 8s 943ms/step - loss: 0.2781 - accuracy: 0.9280 - val_loss: 0.5871 - val_accuracy: 0.7085\n",
            "Epoch 8/100\n",
            "9/9 [==============================] - ETA: 0s - loss: 0.2682 - accuracy: 0.9314\n",
            "Epoch 8: val_accuracy did not improve from 0.70850\n",
            "9/9 [==============================] - 8s 948ms/step - loss: 0.2682 - accuracy: 0.9314 - val_loss: 0.5885 - val_accuracy: 0.7045\n",
            "Epoch 9/100\n",
            "9/9 [==============================] - ETA: 0s - loss: 0.2640 - accuracy: 0.9375\n",
            "Epoch 9: val_accuracy did not improve from 0.70850\n",
            "9/9 [==============================] - 6s 641ms/step - loss: 0.2640 - accuracy: 0.9375 - val_loss: 0.5947 - val_accuracy: 0.6984\n",
            "Epoch 10/100\n",
            "9/9 [==============================] - ETA: 0s - loss: 0.2629 - accuracy: 0.9306\n",
            "Epoch 10: val_accuracy did not improve from 0.70850\n",
            "9/9 [==============================] - 8s 964ms/step - loss: 0.2629 - accuracy: 0.9306 - val_loss: 0.5966 - val_accuracy: 0.6964\n",
            "Epoch 11/100\n",
            "9/9 [==============================] - ETA: 0s - loss: 0.2642 - accuracy: 0.9297\n",
            "Epoch 11: val_accuracy did not improve from 0.70850\n",
            "9/9 [==============================] - 6s 643ms/step - loss: 0.2642 - accuracy: 0.9297 - val_loss: 0.5882 - val_accuracy: 0.6984\n",
            "Epoch 12/100\n",
            "9/9 [==============================] - ETA: 0s - loss: 0.2596 - accuracy: 0.9358\n",
            "Epoch 12: val_accuracy did not improve from 0.70850\n",
            "9/9 [==============================] - 8s 809ms/step - loss: 0.2596 - accuracy: 0.9358 - val_loss: 0.5867 - val_accuracy: 0.7004\n",
            "Epoch 13/100\n",
            "9/9 [==============================] - ETA: 0s - loss: 0.2555 - accuracy: 0.9314\n",
            "Epoch 13: val_accuracy did not improve from 0.70850\n",
            "9/9 [==============================] - 7s 765ms/step - loss: 0.2555 - accuracy: 0.9314 - val_loss: 0.5919 - val_accuracy: 0.7045\n",
            "Epoch 14/100\n",
            "9/9 [==============================] - ETA: 0s - loss: 0.2559 - accuracy: 0.9392\n",
            "Epoch 14: val_accuracy did not improve from 0.70850\n",
            "9/9 [==============================] - 6s 651ms/step - loss: 0.2559 - accuracy: 0.9392 - val_loss: 0.5858 - val_accuracy: 0.7085\n",
            "Epoch 15/100\n",
            "9/9 [==============================] - ETA: 0s - loss: 0.2520 - accuracy: 0.9444\n",
            "Epoch 15: val_accuracy did not improve from 0.70850\n",
            "9/9 [==============================] - 8s 898ms/step - loss: 0.2520 - accuracy: 0.9444 - val_loss: 0.6002 - val_accuracy: 0.7024\n",
            "Epoch 16/100\n",
            "9/9 [==============================] - ETA: 0s - loss: 0.2450 - accuracy: 0.9410\n",
            "Epoch 16: val_accuracy did not improve from 0.70850\n",
            "9/9 [==============================] - 6s 647ms/step - loss: 0.2450 - accuracy: 0.9410 - val_loss: 0.5906 - val_accuracy: 0.7065\n",
            "Epoch 17/100\n",
            "9/9 [==============================] - ETA: 0s - loss: 0.2406 - accuracy: 0.9505\n",
            "Epoch 17: val_accuracy did not improve from 0.70850\n",
            "9/9 [==============================] - 8s 952ms/step - loss: 0.2406 - accuracy: 0.9505 - val_loss: 0.5883 - val_accuracy: 0.7045\n",
            "Epoch 18/100\n",
            "9/9 [==============================] - ETA: 0s - loss: 0.2369 - accuracy: 0.9514\n",
            "Epoch 18: val_accuracy did not improve from 0.70850\n",
            "9/9 [==============================] - 6s 652ms/step - loss: 0.2369 - accuracy: 0.9514 - val_loss: 0.5858 - val_accuracy: 0.7085\n",
            "Epoch 19/100\n",
            "9/9 [==============================] - ETA: 0s - loss: 0.2344 - accuracy: 0.9514\n",
            "Epoch 19: val_accuracy did not improve from 0.70850\n",
            "9/9 [==============================] - 7s 808ms/step - loss: 0.2344 - accuracy: 0.9514 - val_loss: 0.5897 - val_accuracy: 0.7024\n",
            "Epoch 20/100\n",
            "9/9 [==============================] - ETA: 0s - loss: 0.2324 - accuracy: 0.9523\n",
            "Epoch 20: val_accuracy did not improve from 0.70850\n",
            "9/9 [==============================] - 7s 764ms/step - loss: 0.2324 - accuracy: 0.9523 - val_loss: 0.5871 - val_accuracy: 0.7085\n",
            "Epoch 21/100\n",
            "9/9 [==============================] - ETA: 0s - loss: 0.2313 - accuracy: 0.9549\n",
            "Epoch 21: val_accuracy did not improve from 0.70850\n",
            "9/9 [==============================] - 6s 663ms/step - loss: 0.2313 - accuracy: 0.9549 - val_loss: 0.6004 - val_accuracy: 0.7065\n",
            "Epoch 22/100\n",
            "9/9 [==============================] - ETA: 0s - loss: 0.2282 - accuracy: 0.9505\n",
            "Epoch 22: val_accuracy improved from 0.70850 to 0.71053, saving model to best_weights.hdf5\n",
            "9/9 [==============================] - 9s 1s/step - loss: 0.2282 - accuracy: 0.9505 - val_loss: 0.5870 - val_accuracy: 0.7105\n",
            "Epoch 23/100\n",
            "9/9 [==============================] - ETA: 0s - loss: 0.2258 - accuracy: 0.9549\n",
            "Epoch 23: val_accuracy did not improve from 0.71053\n",
            "9/9 [==============================] - 6s 643ms/step - loss: 0.2258 - accuracy: 0.9549 - val_loss: 0.5877 - val_accuracy: 0.7045\n",
            "Epoch 24/100\n",
            "9/9 [==============================] - ETA: 0s - loss: 0.2226 - accuracy: 0.9566\n",
            "Epoch 24: val_accuracy did not improve from 0.71053\n",
            "9/9 [==============================] - 8s 954ms/step - loss: 0.2226 - accuracy: 0.9566 - val_loss: 0.5868 - val_accuracy: 0.7024\n",
            "Epoch 25/100\n",
            "9/9 [==============================] - ETA: 0s - loss: 0.2235 - accuracy: 0.9497\n",
            "Epoch 25: val_accuracy did not improve from 0.71053\n",
            "9/9 [==============================] - 6s 649ms/step - loss: 0.2235 - accuracy: 0.9497 - val_loss: 0.5929 - val_accuracy: 0.7105\n",
            "Epoch 26/100\n",
            "9/9 [==============================] - ETA: 0s - loss: 0.2168 - accuracy: 0.9627\n",
            "Epoch 26: val_accuracy did not improve from 0.71053\n",
            "9/9 [==============================] - 7s 826ms/step - loss: 0.2168 - accuracy: 0.9627 - val_loss: 0.5974 - val_accuracy: 0.7045\n",
            "Epoch 27/100\n",
            "9/9 [==============================] - ETA: 0s - loss: 0.2167 - accuracy: 0.9549\n",
            "Epoch 27: val_accuracy did not improve from 0.71053\n",
            "9/9 [==============================] - 7s 792ms/step - loss: 0.2167 - accuracy: 0.9549 - val_loss: 0.6348 - val_accuracy: 0.6883\n",
            "Epoch 28/100\n",
            "9/9 [==============================] - ETA: 0s - loss: 0.2171 - accuracy: 0.9549\n",
            "Epoch 28: val_accuracy did not improve from 0.71053\n",
            "9/9 [==============================] - 6s 729ms/step - loss: 0.2171 - accuracy: 0.9549 - val_loss: 0.5910 - val_accuracy: 0.7085\n",
            "Epoch 29/100\n",
            "9/9 [==============================] - ETA: 0s - loss: 0.2120 - accuracy: 0.9592\n",
            "Epoch 29: val_accuracy did not improve from 0.71053\n",
            "9/9 [==============================] - 7s 813ms/step - loss: 0.2120 - accuracy: 0.9592 - val_loss: 0.5888 - val_accuracy: 0.7085\n",
            "Epoch 30/100\n",
            "9/9 [==============================] - ETA: 0s - loss: 0.2231 - accuracy: 0.9523\n",
            "Epoch 30: val_accuracy did not improve from 0.71053\n",
            "9/9 [==============================] - 6s 651ms/step - loss: 0.2231 - accuracy: 0.9523 - val_loss: 0.6053 - val_accuracy: 0.6943\n",
            "Epoch 31/100\n",
            "9/9 [==============================] - ETA: 0s - loss: 0.2175 - accuracy: 0.9410\n",
            "Epoch 31: val_accuracy did not improve from 0.71053\n",
            "9/9 [==============================] - 8s 933ms/step - loss: 0.2175 - accuracy: 0.9410 - val_loss: 0.6031 - val_accuracy: 0.6964\n",
            "Epoch 32/100\n",
            "9/9 [==============================] - ETA: 0s - loss: 0.2141 - accuracy: 0.9575\n",
            "Epoch 32: val_accuracy did not improve from 0.71053\n",
            "9/9 [==============================] - 6s 648ms/step - loss: 0.2141 - accuracy: 0.9575 - val_loss: 0.5911 - val_accuracy: 0.7065\n",
            "Epoch 33/100\n",
            "9/9 [==============================] - ETA: 0s - loss: 0.2002 - accuracy: 0.9618\n",
            "Epoch 33: val_accuracy did not improve from 0.71053\n",
            "9/9 [==============================] - 7s 836ms/step - loss: 0.2002 - accuracy: 0.9618 - val_loss: 0.5984 - val_accuracy: 0.7045\n",
            "Epoch 34/100\n",
            "9/9 [==============================] - ETA: 0s - loss: 0.1979 - accuracy: 0.9679\n",
            "Epoch 34: val_accuracy did not improve from 0.71053\n",
            "9/9 [==============================] - 9s 1s/step - loss: 0.1979 - accuracy: 0.9679 - val_loss: 0.6133 - val_accuracy: 0.6943\n",
            "Epoch 35/100\n",
            "9/9 [==============================] - ETA: 0s - loss: 0.2040 - accuracy: 0.9618\n",
            "Epoch 35: val_accuracy did not improve from 0.71053\n",
            "9/9 [==============================] - 7s 746ms/step - loss: 0.2040 - accuracy: 0.9618 - val_loss: 0.5911 - val_accuracy: 0.7024\n",
            "Epoch 36/100\n",
            "9/9 [==============================] - ETA: 0s - loss: 0.1994 - accuracy: 0.9601\n",
            "Epoch 36: val_accuracy improved from 0.71053 to 0.71255, saving model to best_weights.hdf5\n",
            "9/9 [==============================] - 14s 2s/step - loss: 0.1994 - accuracy: 0.9601 - val_loss: 0.5887 - val_accuracy: 0.7126\n",
            "Epoch 37/100\n",
            "9/9 [==============================] - ETA: 0s - loss: 0.1905 - accuracy: 0.9696\n",
            "Epoch 37: val_accuracy did not improve from 0.71255\n",
            "9/9 [==============================] - 8s 906ms/step - loss: 0.1905 - accuracy: 0.9696 - val_loss: 0.5923 - val_accuracy: 0.7024\n",
            "Epoch 38/100\n",
            "9/9 [==============================] - ETA: 0s - loss: 0.1872 - accuracy: 0.9714\n",
            "Epoch 38: val_accuracy did not improve from 0.71255\n",
            "9/9 [==============================] - 6s 641ms/step - loss: 0.1872 - accuracy: 0.9714 - val_loss: 0.5911 - val_accuracy: 0.7045\n",
            "Epoch 39/100\n",
            "9/9 [==============================] - ETA: 0s - loss: 0.1882 - accuracy: 0.9705\n",
            "Epoch 39: val_accuracy did not improve from 0.71255\n",
            "9/9 [==============================] - 8s 950ms/step - loss: 0.1882 - accuracy: 0.9705 - val_loss: 0.5919 - val_accuracy: 0.7105\n",
            "Epoch 40/100\n",
            "9/9 [==============================] - ETA: 0s - loss: 0.1857 - accuracy: 0.9714\n",
            "Epoch 40: val_accuracy did not improve from 0.71255\n",
            "9/9 [==============================] - 6s 640ms/step - loss: 0.1857 - accuracy: 0.9714 - val_loss: 0.5923 - val_accuracy: 0.7126\n",
            "Epoch 41/100\n",
            "9/9 [==============================] - ETA: 0s - loss: 0.1829 - accuracy: 0.9714\n",
            "Epoch 41: val_accuracy did not improve from 0.71255\n",
            "9/9 [==============================] - 8s 920ms/step - loss: 0.1829 - accuracy: 0.9714 - val_loss: 0.6011 - val_accuracy: 0.7085\n",
            "Epoch 42/100\n",
            "9/9 [==============================] - ETA: 0s - loss: 0.1812 - accuracy: 0.9696\n",
            "Epoch 42: val_accuracy improved from 0.71255 to 0.71660, saving model to best_weights.hdf5\n",
            "9/9 [==============================] - 14s 2s/step - loss: 0.1812 - accuracy: 0.9696 - val_loss: 0.5928 - val_accuracy: 0.7166\n",
            "Epoch 43/100\n",
            "9/9 [==============================] - ETA: 0s - loss: 0.1780 - accuracy: 0.9731\n",
            "Epoch 43: val_accuracy did not improve from 0.71660\n",
            "9/9 [==============================] - 6s 645ms/step - loss: 0.1780 - accuracy: 0.9731 - val_loss: 0.5942 - val_accuracy: 0.7085\n",
            "Epoch 44/100\n",
            "9/9 [==============================] - ETA: 0s - loss: 0.1798 - accuracy: 0.9757\n",
            "Epoch 44: val_accuracy did not improve from 0.71660\n",
            "9/9 [==============================] - 7s 787ms/step - loss: 0.1798 - accuracy: 0.9757 - val_loss: 0.6016 - val_accuracy: 0.7105\n",
            "Epoch 45/100\n",
            "9/9 [==============================] - ETA: 0s - loss: 0.1835 - accuracy: 0.9714\n",
            "Epoch 45: val_accuracy did not improve from 0.71660\n",
            "9/9 [==============================] - 7s 752ms/step - loss: 0.1835 - accuracy: 0.9714 - val_loss: 0.5940 - val_accuracy: 0.7085\n",
            "Epoch 46/100\n",
            "9/9 [==============================] - ETA: 0s - loss: 0.1724 - accuracy: 0.9757\n",
            "Epoch 46: val_accuracy did not improve from 0.71660\n",
            "9/9 [==============================] - 6s 675ms/step - loss: 0.1724 - accuracy: 0.9757 - val_loss: 0.5956 - val_accuracy: 0.7085\n",
            "Epoch 47/100\n",
            "9/9 [==============================] - ETA: 0s - loss: 0.1719 - accuracy: 0.9783\n",
            "Epoch 47: val_accuracy did not improve from 0.71660\n",
            "9/9 [==============================] - 10s 1s/step - loss: 0.1719 - accuracy: 0.9783 - val_loss: 0.5961 - val_accuracy: 0.7166\n",
            "Epoch 48/100\n",
            "9/9 [==============================] - ETA: 0s - loss: 0.1737 - accuracy: 0.9748\n",
            "Epoch 48: val_accuracy did not improve from 0.71660\n",
            "9/9 [==============================] - 6s 641ms/step - loss: 0.1737 - accuracy: 0.9748 - val_loss: 0.6053 - val_accuracy: 0.7105\n",
            "Epoch 49/100\n",
            "9/9 [==============================] - ETA: 0s - loss: 0.1771 - accuracy: 0.9722\n",
            "Epoch 49: val_accuracy did not improve from 0.71660\n",
            "9/9 [==============================] - 8s 955ms/step - loss: 0.1771 - accuracy: 0.9722 - val_loss: 0.6111 - val_accuracy: 0.7105\n",
            "Epoch 50/100\n",
            "9/9 [==============================] - ETA: 0s - loss: 0.1697 - accuracy: 0.9757\n",
            "Epoch 50: val_accuracy did not improve from 0.71660\n",
            "9/9 [==============================] - 6s 645ms/step - loss: 0.1697 - accuracy: 0.9757 - val_loss: 0.5960 - val_accuracy: 0.7085\n",
            "Epoch 51/100\n",
            "9/9 [==============================] - ETA: 0s - loss: 0.1686 - accuracy: 0.9748\n",
            "Epoch 51: val_accuracy did not improve from 0.71660\n",
            "9/9 [==============================] - 7s 783ms/step - loss: 0.1686 - accuracy: 0.9748 - val_loss: 0.6117 - val_accuracy: 0.7085\n",
            "Epoch 52/100\n",
            "9/9 [==============================] - ETA: 0s - loss: 0.1683 - accuracy: 0.9774\n",
            "Epoch 52: val_accuracy did not improve from 0.71660\n",
            "9/9 [==============================] - 7s 758ms/step - loss: 0.1683 - accuracy: 0.9774 - val_loss: 0.6007 - val_accuracy: 0.7166\n",
            "Epoch 53/100\n",
            "9/9 [==============================] - ETA: 0s - loss: 0.1603 - accuracy: 0.9792\n",
            "Epoch 53: val_accuracy did not improve from 0.71660\n",
            "9/9 [==============================] - 6s 645ms/step - loss: 0.1603 - accuracy: 0.9792 - val_loss: 0.6093 - val_accuracy: 0.7105\n",
            "Epoch 54/100\n",
            "9/9 [==============================] - ETA: 0s - loss: 0.1586 - accuracy: 0.9809\n",
            "Epoch 54: val_accuracy improved from 0.71660 to 0.72065, saving model to best_weights.hdf5\n",
            "9/9 [==============================] - 16s 2s/step - loss: 0.1586 - accuracy: 0.9809 - val_loss: 0.6023 - val_accuracy: 0.7206\n",
            "Epoch 55/100\n",
            "9/9 [==============================] - ETA: 0s - loss: 0.1568 - accuracy: 0.9852\n",
            "Epoch 55: val_accuracy did not improve from 0.72065\n",
            "9/9 [==============================] - 8s 897ms/step - loss: 0.1568 - accuracy: 0.9852 - val_loss: 0.6004 - val_accuracy: 0.7206\n",
            "Epoch 56/100\n",
            "9/9 [==============================] - ETA: 0s - loss: 0.1557 - accuracy: 0.9826\n",
            "Epoch 56: val_accuracy did not improve from 0.72065\n",
            "9/9 [==============================] - 6s 637ms/step - loss: 0.1557 - accuracy: 0.9826 - val_loss: 0.6107 - val_accuracy: 0.7105\n",
            "Epoch 57/100\n",
            "9/9 [==============================] - ETA: 0s - loss: 0.1534 - accuracy: 0.9835\n",
            "Epoch 57: val_accuracy did not improve from 0.72065\n",
            "9/9 [==============================] - 8s 918ms/step - loss: 0.1534 - accuracy: 0.9835 - val_loss: 0.6017 - val_accuracy: 0.7186\n",
            "Epoch 58/100\n",
            "9/9 [==============================] - ETA: 0s - loss: 0.1499 - accuracy: 0.9861\n",
            "Epoch 58: val_accuracy improved from 0.72065 to 0.72267, saving model to best_weights.hdf5\n",
            "9/9 [==============================] - 17s 2s/step - loss: 0.1499 - accuracy: 0.9861 - val_loss: 0.6017 - val_accuracy: 0.7227\n",
            "Epoch 59/100\n",
            "9/9 [==============================] - ETA: 0s - loss: 0.1518 - accuracy: 0.9818\n",
            "Epoch 59: val_accuracy did not improve from 0.72267\n",
            "9/9 [==============================] - 6s 627ms/step - loss: 0.1518 - accuracy: 0.9818 - val_loss: 0.6013 - val_accuracy: 0.7166\n",
            "Epoch 60/100\n",
            "9/9 [==============================] - ETA: 0s - loss: 0.1539 - accuracy: 0.9800\n",
            "Epoch 60: val_accuracy did not improve from 0.72267\n",
            "9/9 [==============================] - 12s 1s/step - loss: 0.1539 - accuracy: 0.9800 - val_loss: 0.6021 - val_accuracy: 0.7146\n",
            "Epoch 61/100\n",
            "9/9 [==============================] - ETA: 0s - loss: 0.1506 - accuracy: 0.9844\n",
            "Epoch 61: val_accuracy did not improve from 0.72267\n",
            "9/9 [==============================] - 6s 655ms/step - loss: 0.1506 - accuracy: 0.9844 - val_loss: 0.6030 - val_accuracy: 0.7186\n",
            "Epoch 62/100\n",
            "9/9 [==============================] - ETA: 0s - loss: 0.1504 - accuracy: 0.9826\n",
            "Epoch 62: val_accuracy did not improve from 0.72267\n",
            "9/9 [==============================] - 7s 861ms/step - loss: 0.1504 - accuracy: 0.9826 - val_loss: 0.6188 - val_accuracy: 0.7045\n",
            "Epoch 63/100\n",
            "9/9 [==============================] - ETA: 0s - loss: 0.1454 - accuracy: 0.9861\n",
            "Epoch 63: val_accuracy did not improve from 0.72267\n",
            "9/9 [==============================] - 6s 663ms/step - loss: 0.1454 - accuracy: 0.9861 - val_loss: 0.6344 - val_accuracy: 0.7004\n",
            "Epoch 64/100\n",
            "9/9 [==============================] - ETA: 0s - loss: 0.1438 - accuracy: 0.9844\n",
            "Epoch 64: val_accuracy did not improve from 0.72267\n",
            "9/9 [==============================] - 7s 759ms/step - loss: 0.1438 - accuracy: 0.9844 - val_loss: 0.6115 - val_accuracy: 0.7166\n",
            "Epoch 65/100\n",
            "9/9 [==============================] - ETA: 0s - loss: 0.1411 - accuracy: 0.9861\n",
            "Epoch 65: val_accuracy did not improve from 0.72267\n",
            "9/9 [==============================] - 7s 782ms/step - loss: 0.1411 - accuracy: 0.9861 - val_loss: 0.6082 - val_accuracy: 0.7206\n",
            "Epoch 66/100\n",
            "9/9 [==============================] - ETA: 0s - loss: 0.1390 - accuracy: 0.9913\n",
            "Epoch 66: val_accuracy did not improve from 0.72267\n",
            "9/9 [==============================] - 6s 641ms/step - loss: 0.1390 - accuracy: 0.9913 - val_loss: 0.6047 - val_accuracy: 0.7126\n",
            "Epoch 67/100\n",
            "9/9 [==============================] - ETA: 0s - loss: 0.1373 - accuracy: 0.9913\n",
            "Epoch 67: val_accuracy did not improve from 0.72267\n",
            "9/9 [==============================] - 8s 910ms/step - loss: 0.1373 - accuracy: 0.9913 - val_loss: 0.6071 - val_accuracy: 0.7227\n",
            "Epoch 68/100\n",
            "9/9 [==============================] - ETA: 0s - loss: 0.1365 - accuracy: 0.9896\n",
            "Epoch 68: val_accuracy improved from 0.72267 to 0.72470, saving model to best_weights.hdf5\n",
            "9/9 [==============================] - 17s 2s/step - loss: 0.1365 - accuracy: 0.9896 - val_loss: 0.6077 - val_accuracy: 0.7247\n",
            "Epoch 69/100\n",
            "9/9 [==============================] - ETA: 0s - loss: 0.1346 - accuracy: 0.9870\n",
            "Epoch 69: val_accuracy did not improve from 0.72470\n",
            "9/9 [==============================] - 7s 838ms/step - loss: 0.1346 - accuracy: 0.9870 - val_loss: 0.6146 - val_accuracy: 0.7126\n",
            "Epoch 70/100\n",
            "9/9 [==============================] - ETA: 0s - loss: 0.1331 - accuracy: 0.9913\n",
            "Epoch 70: val_accuracy did not improve from 0.72470\n",
            "9/9 [==============================] - 7s 704ms/step - loss: 0.1331 - accuracy: 0.9913 - val_loss: 0.6076 - val_accuracy: 0.7227\n",
            "Epoch 71/100\n",
            "9/9 [==============================] - ETA: 0s - loss: 0.1324 - accuracy: 0.9896\n",
            "Epoch 71: val_accuracy did not improve from 0.72470\n",
            "9/9 [==============================] - 6s 730ms/step - loss: 0.1324 - accuracy: 0.9896 - val_loss: 0.6050 - val_accuracy: 0.7126\n",
            "Epoch 72/100\n",
            "9/9 [==============================] - ETA: 0s - loss: 0.1323 - accuracy: 0.9922\n",
            "Epoch 72: val_accuracy did not improve from 0.72470\n",
            "9/9 [==============================] - 8s 838ms/step - loss: 0.1323 - accuracy: 0.9922 - val_loss: 0.6085 - val_accuracy: 0.7166\n",
            "Epoch 73/100\n",
            "9/9 [==============================] - ETA: 0s - loss: 0.1338 - accuracy: 0.9896\n",
            "Epoch 73: val_accuracy did not improve from 0.72470\n",
            "9/9 [==============================] - 6s 647ms/step - loss: 0.1338 - accuracy: 0.9896 - val_loss: 0.6066 - val_accuracy: 0.7085\n",
            "Epoch 74/100\n",
            "9/9 [==============================] - ETA: 0s - loss: 0.1348 - accuracy: 0.9878\n",
            "Epoch 74: val_accuracy did not improve from 0.72470\n",
            "9/9 [==============================] - 8s 937ms/step - loss: 0.1348 - accuracy: 0.9878 - val_loss: 0.6186 - val_accuracy: 0.7105\n",
            "Epoch 75/100\n",
            "9/9 [==============================] - ETA: 0s - loss: 0.1337 - accuracy: 0.9905\n",
            "Epoch 75: val_accuracy did not improve from 0.72470\n",
            "9/9 [==============================] - 6s 652ms/step - loss: 0.1337 - accuracy: 0.9905 - val_loss: 0.6314 - val_accuracy: 0.7105\n",
            "Epoch 76/100\n",
            "9/9 [==============================] - ETA: 0s - loss: 0.1265 - accuracy: 0.9905\n",
            "Epoch 76: val_accuracy did not improve from 0.72470\n",
            "9/9 [==============================] - 7s 833ms/step - loss: 0.1265 - accuracy: 0.9905 - val_loss: 0.6218 - val_accuracy: 0.7105\n",
            "Epoch 77/100\n",
            "9/9 [==============================] - ETA: 0s - loss: 0.1236 - accuracy: 0.9922\n",
            "Epoch 77: val_accuracy did not improve from 0.72470\n",
            "9/9 [==============================] - 7s 747ms/step - loss: 0.1236 - accuracy: 0.9922 - val_loss: 0.6142 - val_accuracy: 0.7247\n",
            "Epoch 78/100\n",
            "9/9 [==============================] - ETA: 0s - loss: 0.1213 - accuracy: 0.9939\n",
            "Epoch 78: val_accuracy did not improve from 0.72470\n",
            "9/9 [==============================] - 6s 725ms/step - loss: 0.1213 - accuracy: 0.9939 - val_loss: 0.6094 - val_accuracy: 0.7105\n",
            "Epoch 79/100\n",
            "9/9 [==============================] - ETA: 0s - loss: 0.1229 - accuracy: 0.9931\n",
            "Epoch 79: val_accuracy did not improve from 0.72470\n",
            "9/9 [==============================] - 8s 829ms/step - loss: 0.1229 - accuracy: 0.9931 - val_loss: 0.6117 - val_accuracy: 0.7206\n",
            "Epoch 80/100\n",
            "9/9 [==============================] - ETA: 0s - loss: 0.1190 - accuracy: 0.9948\n",
            "Epoch 80: val_accuracy did not improve from 0.72470\n",
            "9/9 [==============================] - 9s 1s/step - loss: 0.1190 - accuracy: 0.9948 - val_loss: 0.6104 - val_accuracy: 0.7085\n",
            "Epoch 81/100\n",
            "9/9 [==============================] - ETA: 0s - loss: 0.1226 - accuracy: 0.9931\n",
            "Epoch 81: val_accuracy did not improve from 0.72470\n",
            "9/9 [==============================] - 7s 749ms/step - loss: 0.1226 - accuracy: 0.9931 - val_loss: 0.6151 - val_accuracy: 0.7247\n",
            "Epoch 82/100\n",
            "9/9 [==============================] - ETA: 0s - loss: 0.1204 - accuracy: 0.9948\n",
            "Epoch 82: val_accuracy did not improve from 0.72470\n",
            "9/9 [==============================] - 6s 649ms/step - loss: 0.1204 - accuracy: 0.9948 - val_loss: 0.6332 - val_accuracy: 0.7085\n",
            "Epoch 83/100\n",
            "9/9 [==============================] - ETA: 0s - loss: 0.1168 - accuracy: 0.9957\n",
            "Epoch 83: val_accuracy did not improve from 0.72470\n",
            "9/9 [==============================] - 8s 925ms/step - loss: 0.1168 - accuracy: 0.9957 - val_loss: 0.6130 - val_accuracy: 0.7126\n",
            "Epoch 84/100\n",
            "9/9 [==============================] - ETA: 0s - loss: 0.1148 - accuracy: 0.9974\n",
            "Epoch 84: val_accuracy did not improve from 0.72470\n",
            "9/9 [==============================] - 6s 650ms/step - loss: 0.1148 - accuracy: 0.9974 - val_loss: 0.6137 - val_accuracy: 0.7146\n",
            "Epoch 85/100\n",
            "9/9 [==============================] - ETA: 0s - loss: 0.1141 - accuracy: 0.9965\n",
            "Epoch 85: val_accuracy did not improve from 0.72470\n",
            "9/9 [==============================] - 8s 957ms/step - loss: 0.1141 - accuracy: 0.9965 - val_loss: 0.6136 - val_accuracy: 0.7166\n",
            "Epoch 86/100\n",
            "9/9 [==============================] - ETA: 0s - loss: 0.1129 - accuracy: 0.9983\n",
            "Epoch 86: val_accuracy did not improve from 0.72470\n",
            "9/9 [==============================] - 6s 652ms/step - loss: 0.1129 - accuracy: 0.9983 - val_loss: 0.6203 - val_accuracy: 0.7247\n",
            "Epoch 87/100\n",
            "9/9 [==============================] - ETA: 0s - loss: 0.1115 - accuracy: 0.9965\n",
            "Epoch 87: val_accuracy did not improve from 0.72470\n",
            "9/9 [==============================] - 7s 826ms/step - loss: 0.1115 - accuracy: 0.9965 - val_loss: 0.6155 - val_accuracy: 0.7126\n",
            "Epoch 88/100\n",
            "9/9 [==============================] - ETA: 0s - loss: 0.1117 - accuracy: 0.9965\n",
            "Epoch 88: val_accuracy did not improve from 0.72470\n",
            "9/9 [==============================] - 7s 750ms/step - loss: 0.1117 - accuracy: 0.9965 - val_loss: 0.6144 - val_accuracy: 0.7126\n",
            "Epoch 89/100\n",
            "9/9 [==============================] - ETA: 0s - loss: 0.1102 - accuracy: 0.9965\n",
            "Epoch 89: val_accuracy did not improve from 0.72470\n",
            "9/9 [==============================] - 7s 817ms/step - loss: 0.1102 - accuracy: 0.9965 - val_loss: 0.6148 - val_accuracy: 0.7126\n",
            "Epoch 90/100\n",
            "9/9 [==============================] - ETA: 0s - loss: 0.1104 - accuracy: 0.9965\n",
            "Epoch 90: val_accuracy did not improve from 0.72470\n",
            "9/9 [==============================] - 9s 941ms/step - loss: 0.1104 - accuracy: 0.9965 - val_loss: 0.6161 - val_accuracy: 0.7105\n",
            "Epoch 91/100\n",
            "9/9 [==============================] - ETA: 0s - loss: 0.1092 - accuracy: 0.9974\n",
            "Epoch 91: val_accuracy did not improve from 0.72470\n",
            "9/9 [==============================] - 6s 651ms/step - loss: 0.1092 - accuracy: 0.9974 - val_loss: 0.6196 - val_accuracy: 0.7247\n",
            "Epoch 92/100\n",
            "9/9 [==============================] - ETA: 0s - loss: 0.1095 - accuracy: 0.9965\n",
            "Epoch 92: val_accuracy did not improve from 0.72470\n",
            "9/9 [==============================] - 8s 976ms/step - loss: 0.1095 - accuracy: 0.9965 - val_loss: 0.6179 - val_accuracy: 0.7206\n",
            "Epoch 93/100\n",
            "9/9 [==============================] - ETA: 0s - loss: 0.1070 - accuracy: 0.9974\n",
            "Epoch 93: val_accuracy did not improve from 0.72470\n",
            "9/9 [==============================] - 6s 644ms/step - loss: 0.1070 - accuracy: 0.9974 - val_loss: 0.6332 - val_accuracy: 0.7146\n",
            "Epoch 94/100\n",
            "9/9 [==============================] - ETA: 0s - loss: 0.1060 - accuracy: 0.9983\n",
            "Epoch 94: val_accuracy did not improve from 0.72470\n",
            "9/9 [==============================] - 8s 886ms/step - loss: 0.1060 - accuracy: 0.9983 - val_loss: 0.6342 - val_accuracy: 0.7146\n",
            "Epoch 95/100\n",
            "9/9 [==============================] - ETA: 0s - loss: 0.1031 - accuracy: 0.9983\n",
            "Epoch 95: val_accuracy did not improve from 0.72470\n",
            "9/9 [==============================] - 6s 654ms/step - loss: 0.1031 - accuracy: 0.9983 - val_loss: 0.6200 - val_accuracy: 0.7166\n",
            "Epoch 96/100\n",
            "9/9 [==============================] - ETA: 0s - loss: 0.1019 - accuracy: 0.9983\n",
            "Epoch 96: val_accuracy did not improve from 0.72470\n",
            "9/9 [==============================] - 7s 779ms/step - loss: 0.1019 - accuracy: 0.9983 - val_loss: 0.6196 - val_accuracy: 0.7126\n",
            "Epoch 97/100\n",
            "9/9 [==============================] - ETA: 0s - loss: 0.1009 - accuracy: 0.9983\n",
            "Epoch 97: val_accuracy did not improve from 0.72470\n",
            "9/9 [==============================] - 7s 770ms/step - loss: 0.1009 - accuracy: 0.9983 - val_loss: 0.6196 - val_accuracy: 0.7126\n",
            "Epoch 98/100\n",
            "9/9 [==============================] - ETA: 0s - loss: 0.1004 - accuracy: 0.9965\n",
            "Epoch 98: val_accuracy did not improve from 0.72470\n",
            "9/9 [==============================] - 6s 645ms/step - loss: 0.1004 - accuracy: 0.9965 - val_loss: 0.6204 - val_accuracy: 0.7126\n",
            "Epoch 99/100\n",
            "9/9 [==============================] - ETA: 0s - loss: 0.1024 - accuracy: 0.9974\n",
            "Epoch 99: val_accuracy did not improve from 0.72470\n",
            "9/9 [==============================] - 8s 919ms/step - loss: 0.1024 - accuracy: 0.9974 - val_loss: 0.6231 - val_accuracy: 0.7166\n",
            "Epoch 100/100\n",
            "9/9 [==============================] - ETA: 0s - loss: 0.0985 - accuracy: 0.9983\n",
            "Epoch 100: val_accuracy did not improve from 0.72470\n",
            "9/9 [==============================] - 6s 637ms/step - loss: 0.0985 - accuracy: 0.9983 - val_loss: 0.6281 - val_accuracy: 0.7227\n"
          ]
        }
      ]
    },
    {
      "cell_type": "code",
      "source": [
        "from sklearn.metrics import accuracy_score"
      ],
      "metadata": {
        "id": "nG3Ttl9Y3Wc9"
      },
      "execution_count": null,
      "outputs": []
    },
    {
      "cell_type": "markdown",
      "source": [
        "#Loading the best Weights"
      ],
      "metadata": {
        "id": "Rxjeu-VH-MRq"
      }
    },
    {
      "cell_type": "code",
      "source": [
        "model.load_weights(\"best_weights.hdf5\")"
      ],
      "metadata": {
        "id": "dwd6z26Qn-or"
      },
      "execution_count": null,
      "outputs": []
    },
    {
      "cell_type": "markdown",
      "source": [
        "#Finding the Accuracy of the Model"
      ],
      "metadata": {
        "id": "trV6itVA-L1-"
      }
    },
    {
      "cell_type": "code",
      "source": [
        "print('Accuracy on validation set:', accuracy_score(y_valid,(model.predict(X_valid)>0.7).astype(\"int32\")))"
      ],
      "metadata": {
        "colab": {
          "base_uri": "https://localhost:8080/"
        },
        "id": "NConz2hv38Wk",
        "outputId": "45ae8acc-b26a-4c56-8d3b-a13607d707c7"
      },
      "execution_count": null,
      "outputs": [
        {
          "output_type": "stream",
          "name": "stdout",
          "text": [
            "16/16 [==============================] - 2s 120ms/step\n",
            "Accuracy on validation set: 0.6923076923076923\n"
          ]
        }
      ]
    }
  ]
}